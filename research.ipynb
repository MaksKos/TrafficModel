{
 "cells": [
  {
   "cell_type": "markdown",
   "id": "4137f2eb",
   "metadata": {},
   "source": [
    "# Traffic model research"
   ]
  },
  {
   "cell_type": "code",
   "execution_count": 1,
   "id": "140fd5ae",
   "metadata": {},
   "outputs": [],
   "source": [
    "from src import traffic_model as model\n",
    "from joblib import Parallel, delayed\n",
    "import numpy as np"
   ]
  },
  {
   "cell_type": "markdown",
   "id": "49b0908b",
   "metadata": {},
   "source": [
    "### Research human drive vehicle"
   ]
  },
  {
   "cell_type": "markdown",
   "id": "a36dff41",
   "metadata": {},
   "source": [
    "__Single line__"
   ]
  },
  {
   "cell_type": "code",
   "execution_count": 33,
   "id": "c337d633",
   "metadata": {},
   "outputs": [],
   "source": [
    "road_param = {\n",
    "    \"N_cells\": 1000,\n",
    "    \"N_lane\": 1,\n",
    "}\n",
    "cars = {model.HumanDriveVehicle: 200}"
   ]
  },
  {
   "cell_type": "code",
   "execution_count": 34,
   "id": "24a1c411",
   "metadata": {},
   "outputs": [],
   "source": [
    "model_1 = model.Model(road_parametrs=road_param, vehicles=cars)"
   ]
  },
  {
   "cell_type": "code",
   "execution_count": 35,
   "id": "6015ae30",
   "metadata": {},
   "outputs": [
    {
     "name": "stdout",
     "output_type": "stream",
     "text": [
      "CPU times: total: 22.9 s\n",
      "Wall time: 22.9 s\n"
     ]
    }
   ],
   "source": [
    "%%time\n",
    "model_1.model_stabilization(1000)"
   ]
  },
  {
   "cell_type": "code",
   "execution_count": 36,
   "id": "fe4f91c4",
   "metadata": {},
   "outputs": [],
   "source": [
    "model_1.model_research(100)"
   ]
  },
  {
   "cell_type": "code",
   "execution_count": 38,
   "id": "03d7e425",
   "metadata": {},
   "outputs": [
    {
     "data": {
      "text/plain": [
       "{'rho': 0.2, 'flow': array([0.49995]), 'change_frequency': 0.0}"
      ]
     },
     "execution_count": 38,
     "metadata": {},
     "output_type": "execute_result"
    }
   ],
   "source": [
    "model_1.result"
   ]
  },
  {
   "cell_type": "markdown",
   "id": "2ee81526",
   "metadata": {},
   "source": [
    "__Three line__"
   ]
  },
  {
   "cell_type": "code",
   "execution_count": 2,
   "id": "93d4f0a8",
   "metadata": {},
   "outputs": [],
   "source": [
    "road_param = {\n",
    "    \"N_cells\": 1000,\n",
    "    \"N_lane\": 3,\n",
    "}\n",
    "cars = {model.HumanDriveVehicle: 600}"
   ]
  },
  {
   "cell_type": "code",
   "execution_count": 3,
   "id": "2b25cf4f",
   "metadata": {},
   "outputs": [],
   "source": [
    "model_3 = model.Model(road_parametrs=road_param, vehicles=cars)"
   ]
  },
  {
   "cell_type": "code",
   "execution_count": 4,
   "id": "7fde375e",
   "metadata": {},
   "outputs": [
    {
     "name": "stderr",
     "output_type": "stream",
     "text": [
      "C:\\Users\\Maksim\\anaconda3\\lib\\site-packages\\numpy\\core\\fromnumeric.py:86: VisibleDeprecationWarning: Creating an ndarray from ragged nested sequences (which is a list-or-tuple of lists-or-tuples-or ndarrays with different lengths or shapes) is deprecated. If you meant to do this, you must specify 'dtype=object' when creating the ndarray.\n",
      "  return ufunc.reduce(obj, axis, dtype, out, **passkwargs)\n"
     ]
    },
    {
     "name": "stdout",
     "output_type": "stream",
     "text": [
      "CPU times: total: 1min 18s\n",
      "Wall time: 1min 18s\n"
     ]
    }
   ],
   "source": [
    "%%time\n",
    "model_3.model_stabilization(1000)"
   ]
  },
  {
   "cell_type": "code",
   "execution_count": 5,
   "id": "6bba802b",
   "metadata": {},
   "outputs": [],
   "source": [
    "model_3.model_research(100)"
   ]
  },
  {
   "cell_type": "code",
   "execution_count": 7,
   "id": "89f0f6ac",
   "metadata": {},
   "outputs": [
    {
     "data": {
      "text/plain": [
       "{'rho': 0.19999999999999998,\n",
       " 'flow': array([0.49589]),\n",
       " 'change_frequency': 0.003333333333333333}"
      ]
     },
     "execution_count": 7,
     "metadata": {},
     "output_type": "execute_result"
    }
   ],
   "source": [
    "model_3.result"
   ]
  },
  {
   "cell_type": "code",
   "execution_count": null,
   "id": "fd1531b3",
   "metadata": {},
   "outputs": [],
   "source": []
  }
 ],
 "metadata": {
  "kernelspec": {
   "display_name": "Python 3 (ipykernel)",
   "language": "python",
   "name": "python3"
  },
  "language_info": {
   "codemirror_mode": {
    "name": "ipython",
    "version": 3
   },
   "file_extension": ".py",
   "mimetype": "text/x-python",
   "name": "python",
   "nbconvert_exporter": "python",
   "pygments_lexer": "ipython3",
   "version": "3.9.12"
  }
 },
 "nbformat": 4,
 "nbformat_minor": 5
}

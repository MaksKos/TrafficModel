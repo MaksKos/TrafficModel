{
 "cells": [
  {
   "cell_type": "markdown",
   "id": "4137f2eb",
   "metadata": {},
   "source": [
    "# Traffic model research"
   ]
  },
  {
   "cell_type": "code",
   "execution_count": 1,
   "id": "140fd5ae",
   "metadata": {},
   "outputs": [],
   "source": [
    "from src.traffic_model import traffic_model as model\n",
    "from joblib import Parallel, delayed\n",
    "import numpy as np\n",
    "import joblib\n",
    "import pandas as pd\n",
    "import matplotlib.pyplot as plt\n",
    "from matplotlib import ticker"
   ]
  },
  {
   "cell_type": "code",
   "execution_count": 2,
   "id": "f992a27e",
   "metadata": {},
   "outputs": [],
   "source": [
    "import matplotlib.animation as animation"
   ]
  },
  {
   "cell_type": "markdown",
   "id": "49b0908b",
   "metadata": {},
   "source": [
    "## Test human drive vehicle"
   ]
  },
  {
   "cell_type": "code",
   "execution_count": 3,
   "id": "541a5e56",
   "metadata": {},
   "outputs": [],
   "source": [
    "np.warnings.filterwarnings('ignore', category=np.VisibleDeprecationWarning)"
   ]
  },
  {
   "cell_type": "markdown",
   "id": "a36dff41",
   "metadata": {},
   "source": [
    "### Single line"
   ]
  },
  {
   "cell_type": "markdown",
   "id": "763902c9",
   "metadata": {},
   "source": [
    "__Test__"
   ]
  },
  {
   "cell_type": "code",
   "execution_count": 4,
   "id": "c337d633",
   "metadata": {},
   "outputs": [],
   "source": [
    "road_param = {\n",
    "    \"N_cells\": 1000,\n",
    "    \"N_lane\": 1,\n",
    "}\n",
    "cars = {model.HumanDriveVehicle: 200}"
   ]
  },
  {
   "cell_type": "code",
   "execution_count": 5,
   "id": "24a1c411",
   "metadata": {},
   "outputs": [],
   "source": [
    "model_1 = model.Model(road_parametrs=road_param, vehicles=cars)"
   ]
  },
  {
   "cell_type": "code",
   "execution_count": 6,
   "id": "6015ae30",
   "metadata": {},
   "outputs": [
    {
     "name": "stdout",
     "output_type": "stream",
     "text": [
      "CPU times: total: 44 s\n",
      "Wall time: 44 s\n"
     ]
    }
   ],
   "source": [
    "%%time\n",
    "model_1.model_stabilization(2000)"
   ]
  },
  {
   "cell_type": "code",
   "execution_count": 7,
   "id": "fe4f91c4",
   "metadata": {},
   "outputs": [],
   "source": [
    "model_1.model_research(100)"
   ]
  },
  {
   "cell_type": "code",
   "execution_count": 8,
   "id": "03d7e425",
   "metadata": {},
   "outputs": [
    {
     "data": {
      "text/plain": [
       "{'rho': [0.2], 'flow': [0.29496], 'change_frequency': 0.0}"
      ]
     },
     "execution_count": 8,
     "metadata": {},
     "output_type": "execute_result"
    }
   ],
   "source": [
    "model_1.result"
   ]
  },
  {
   "cell_type": "markdown",
   "id": "7262ff71",
   "metadata": {},
   "source": [
    "__Fundamential diagramm__"
   ]
  },
  {
   "cell_type": "code",
   "execution_count": null,
   "id": "0270ff2a",
   "metadata": {},
   "outputs": [],
   "source": [
    "core = joblib.cpu_count() - 2\n",
    "cars_arr = np.arange(1000, step=50)[1:]\n",
    "cars_arr"
   ]
  },
  {
   "cell_type": "code",
   "execution_count": null,
   "id": "88d0e260",
   "metadata": {},
   "outputs": [],
   "source": [
    "def step(cars):\n",
    "    road_param = {\n",
    "        \"N_cells\": 1000,\n",
    "        \"N_lane\": 1,\n",
    "    }\n",
    "    cars = {model.HumanDriveVehicle: cars}\n",
    "    road = model.Model(road_parametrs=road_param, vehicles=cars)\n",
    "    road.model_stabilization(1000)\n",
    "    road.model_research(100)\n",
    "    return road.result"
   ]
  },
  {
   "cell_type": "code",
   "execution_count": null,
   "id": "26f444af",
   "metadata": {},
   "outputs": [],
   "source": [
    "%%time\n",
    "tabel_result = Parallel(n_jobs=core, verbose=10)(delayed(step)(cars) for cars in cars_arr)"
   ]
  },
  {
   "cell_type": "code",
   "execution_count": null,
   "id": "02d985c0",
   "metadata": {},
   "outputs": [],
   "source": [
    "result = pd.DataFrame(tabel_result)\n",
    "result"
   ]
  },
  {
   "cell_type": "code",
   "execution_count": null,
   "id": "fe8c2b9f",
   "metadata": {},
   "outputs": [],
   "source": [
    "%matplotlib inline \n",
    "%config InlineBackend.figure_format = 'svg' \n",
    "rc = {\"font.family\" : \"serif\", \n",
    "      \"mathtext.fontset\" : \"stix\"}\n",
    "plt.rcParams.update(rc)\n",
    "plt.rcParams[\"font.serif\"] = [\"Times New Roman\"] + plt.rcParams[\"font.serif\"]\n",
    "fs = 16\n",
    "\n",
    "fig = plt.figure(figsize=(10,6), dpi=300)\n",
    "\n",
    "label = \"$p_{slow} = $\"+str(0.5)\n",
    "plt.plot(result['rho'], result['flow'], label=label)\n",
    "\n",
    "plt.ylim(0,0.6)\n",
    "plt.xlim(0,1)\n",
    "plt.legend(loc='upper right', fontsize=fs)\n",
    "plt.xlabel(r'Density [Vehicle/cell]',  fontsize = fs)\n",
    "plt.ylabel(r'Flow [Vechicle/time step]',  fontsize = fs)\n",
    "plt.title(r'NaSch model with different probability to slow', fontsize=fs)\n",
    "plt.grid(linewidth=0.5)\n",
    "plt.show()"
   ]
  },
  {
   "cell_type": "markdown",
   "id": "3aa657bf",
   "metadata": {},
   "source": [
    "__Visualization__"
   ]
  },
  {
   "cell_type": "code",
   "execution_count": 4,
   "id": "7b7b0602",
   "metadata": {},
   "outputs": [],
   "source": [
    "road_param = {\n",
    "    \"N_cells\": 100,\n",
    "    \"N_lane\": 1,\n",
    "}\n",
    "cars = {model.HumanDriveVehicle: 30}"
   ]
  },
  {
   "cell_type": "code",
   "execution_count": 5,
   "id": "39d73928",
   "metadata": {},
   "outputs": [],
   "source": [
    "model_vis = model.Model(road_parametrs=road_param, vehicles=cars)"
   ]
  },
  {
   "cell_type": "code",
   "execution_count": 6,
   "id": "3917d1a7",
   "metadata": {},
   "outputs": [
    {
     "name": "stdout",
     "output_type": "stream",
     "text": [
      "CPU times: total: 3.34 s\n",
      "Wall time: 3.35 s\n"
     ]
    }
   ],
   "source": [
    "%%time\n",
    "model_vis.model_stabilization(1000)"
   ]
  },
  {
   "cell_type": "code",
   "execution_count": 7,
   "id": "3a43441b",
   "metadata": {},
   "outputs": [],
   "source": [
    "model_vis.model_research(200, is_diagramm=True)"
   ]
  },
  {
   "cell_type": "code",
   "execution_count": null,
   "id": "9d54d0ed",
   "metadata": {},
   "outputs": [],
   "source": [
    "layers = model_vis.x_t_diagramm[0]"
   ]
  },
  {
   "cell_type": "code",
   "execution_count": null,
   "id": "aaac0c99",
   "metadata": {},
   "outputs": [],
   "source": [
    "%matplotlib inline \n",
    "%config InlineBackend.figure_format = 'svg' \n",
    "rc = {\"font.family\" : \"serif\", \n",
    "      \"mathtext.fontset\" : \"stix\"}\n",
    "plt.rcParams.update(rc)\n",
    "plt.rcParams[\"font.serif\"] = [\"Times New Roman\"] + plt.rcParams[\"font.serif\"]\n",
    "fs = 16\n",
    "\n",
    "\n",
    "fig = plt.figure(figsize=(10,6), dpi=300)\n",
    "\n",
    "time = np.linspace(0, layers.shape[0]-1, layers.shape[0], dtype=int)\n",
    "cells = np.linspace(0, layers.shape[1]-1, layers.shape[1], dtype=int)\n",
    "grid = np.meshgrid(cells, time, indexing='xy')\n",
    "\n",
    "#plt.scatter(grid[0], grid[1], marker='s', c='grey', s=1, alpha=0.2)\n",
    "#bar_pic=plt.scatter(grid[0], grid[1], marker ='s', c = road_map, cmap = 'RdYlGn', s = 4, alpha = 1, edgecolors='black', linewidths=0.5 )\n",
    "bar_pic=plt.scatter(grid[0], grid[1], marker ='s', c = layers, cmap = 'RdYlGn', s = 0.1, alpha = 1 )\n",
    "plt.xlim(0, layers.shape[1])\n",
    "plt.ylim(0, layers.shape[0])\n",
    "plt.gca().invert_yaxis()\n",
    "plt.colorbar()\n",
    "plt.clim(0, 5)\n",
    "plt.title(f\"x-t diagramm with density {model_vis.result['rho']}\")\n",
    "plt.xlabel(r'$\\mathrm{cells}$',  fontsize = fs)\n",
    "plt.ylabel(r'$\\mathrm{time}$',  fontsize = fs)\n",
    "#plt.grid(linewidth=0.5)\n",
    "plt.show()\n",
    "#fig.savefig(f'data/x_t_{density}.jpg', dpi = 200, pad_inches=0.1, format='jpg', bbox_inches='tight')"
   ]
  },
  {
   "cell_type": "code",
   "execution_count": null,
   "id": "30201317",
   "metadata": {},
   "outputs": [],
   "source": [
    "%matplotlib inline \n",
    "%config InlineBackend.figure_format = 'svg' \n",
    "fig, ax = plt.subplots(figsize=(20,1))\n",
    "\n",
    "cells = layers[0].astype(float).reshape((1,layers.shape[1]))\n",
    "left, right = 0, 40\n",
    "\n",
    "ax.pcolor(cells[:,left:right], cmap=\"RdYlGn\", vmin=0, vmax=5)\n",
    "\n",
    "ax.tick_params(left=False, labelleft=False, bottom=False, labelbottom=False)\n",
    "ax.set_xticks(np.arange(right-left+1))\n",
    "ax.set_yticks([0,1])\n",
    "ax.grid(color='black', linewidth=2)\n",
    "ax.set_title(f\"step: {2}\")\n",
    "plt.gca().set_aspect('equal', adjustable='box')\n",
    "\n",
    "plt.show()"
   ]
  },
  {
   "cell_type": "code",
   "execution_count": null,
   "id": "abbe3dde",
   "metadata": {},
   "outputs": [],
   "source": [
    "left, right = 0, 50\n",
    "\n",
    "fig, ax = plt.subplots(figsize=(20,2))\n",
    "\n",
    "ax.tick_params(left=False, labelleft=False, bottom=False, labelbottom=False)\n",
    "\n",
    "def animate(i):\n",
    "    ax.clear()\n",
    "    cells = layers[i].astype(float).reshape((1,layers.shape[1]))\n",
    "    line = ax.pcolor(cells[:,left:right], cmap=\"RdYlGn\", vmin=0, vmax=5)\n",
    "    ax.set_title(f\"step: {i}\")\n",
    "    ax.set_xticks(np.arange(right-left+1))\n",
    "    ax.set_yticks([0,1])\n",
    "    ax.grid(color='black', linewidth=2)\n",
    "    plt.gca().set_aspect('equal', adjustable='box')\n",
    "    return line\n",
    "\n",
    "#  Создаем объект анимации:\n",
    "sin_animation = animation.FuncAnimation(fig, \n",
    "                                      animate, \n",
    "                                      frames=np.arange(0, layers.shape[0]),\n",
    "                                      interval = 500,\n",
    "                                      repeat = False)\n",
    "\n",
    "#  Сохраняем анимацию в виде gif файла:\n",
    "sin_animation.save('data/animation_slow.gif',\n",
    "                 writer='ffmpeg',  \n",
    "                  dpi=300)"
   ]
  },
  {
   "cell_type": "markdown",
   "id": "2ee81526",
   "metadata": {},
   "source": [
    "### Three line"
   ]
  },
  {
   "cell_type": "markdown",
   "id": "84020e3e",
   "metadata": {},
   "source": [
    "__Test__"
   ]
  },
  {
   "cell_type": "code",
   "execution_count": 9,
   "id": "93d4f0a8",
   "metadata": {},
   "outputs": [],
   "source": [
    "road_param = {\n",
    "    \"N_cells\": 1000,\n",
    "    \"N_lane\": 3,\n",
    "}\n",
    "cars = {model.HumanDriveVehicle: 600}"
   ]
  },
  {
   "cell_type": "code",
   "execution_count": 10,
   "id": "2b25cf4f",
   "metadata": {},
   "outputs": [],
   "source": [
    "model_3 = model.Model(road_parametrs=road_param, vehicles=cars)"
   ]
  },
  {
   "cell_type": "code",
   "execution_count": 11,
   "id": "7fde375e",
   "metadata": {},
   "outputs": [
    {
     "name": "stdout",
     "output_type": "stream",
     "text": [
      "CPU times: total: 2min 50s\n",
      "Wall time: 2min 50s\n"
     ]
    }
   ],
   "source": [
    "%%time\n",
    "model_3.model_stabilization(2000)"
   ]
  },
  {
   "cell_type": "code",
   "execution_count": 12,
   "id": "6bba802b",
   "metadata": {},
   "outputs": [],
   "source": [
    "model_3.model_research(100)"
   ]
  },
  {
   "cell_type": "code",
   "execution_count": 13,
   "id": "89f0f6ac",
   "metadata": {},
   "outputs": [
    {
     "data": {
      "text/plain": [
       "{'rho': [0.194, 0.204, 0.202],\n",
       " 'flow': [0.31314, 0.32329, 0.32705],\n",
       " 'change_frequency': 6.58}"
      ]
     },
     "execution_count": 13,
     "metadata": {},
     "output_type": "execute_result"
    }
   ],
   "source": [
    "model_3.result"
   ]
  },
  {
   "cell_type": "code",
   "execution_count": 14,
   "id": "acd89c6f",
   "metadata": {},
   "outputs": [
    {
     "data": {
      "text/plain": [
       "(0.20000000000000004, 0.32116000000000006)"
      ]
     },
     "execution_count": 14,
     "metadata": {},
     "output_type": "execute_result"
    }
   ],
   "source": [
    "model_3.density, model_3.flow"
   ]
  },
  {
   "cell_type": "markdown",
   "id": "86b912e9",
   "metadata": {},
   "source": [
    "__Fundamential diagramm__"
   ]
  },
  {
   "cell_type": "code",
   "execution_count": 15,
   "id": "caa3ee5f",
   "metadata": {},
   "outputs": [
    {
     "data": {
      "text/plain": [
       "array([ 150,  300,  450,  600,  750,  900, 1050, 1200, 1350, 1500, 1650,\n",
       "       1800, 1950, 2100, 2250, 2400, 2550, 2700, 2850])"
      ]
     },
     "execution_count": 15,
     "metadata": {},
     "output_type": "execute_result"
    }
   ],
   "source": [
    "core = joblib.cpu_count() - 2\n",
    "cars_arr = np.arange(3000, step=150)[1:]\n",
    "cars_arr"
   ]
  },
  {
   "cell_type": "code",
   "execution_count": null,
   "id": "82e7dc27",
   "metadata": {},
   "outputs": [],
   "source": [
    "def step(cars):\n",
    "    road_param = {\n",
    "        \"N_cells\": 1000,\n",
    "        \"N_lane\": 3,\n",
    "    }\n",
    "    cars = {model.HumanDriveVehicle: cars}\n",
    "    road = model.Model(road_parametrs=road_param, vehicles=cars)\n",
    "    road.model_stabilization(1000)\n",
    "    road.model_research(100)\n",
    "    return road.result"
   ]
  },
  {
   "cell_type": "code",
   "execution_count": null,
   "id": "1a468149",
   "metadata": {},
   "outputs": [],
   "source": [
    "%%time\n",
    "tabel_result = Parallel(n_jobs=core, verbose=10)(delayed(step)(cars) for cars in cars_arr)"
   ]
  },
  {
   "cell_type": "code",
   "execution_count": null,
   "id": "f7ac5a39",
   "metadata": {},
   "outputs": [],
   "source": [
    "result = pd.DataFrame(tabel_result)\n",
    "result"
   ]
  },
  {
   "cell_type": "markdown",
   "id": "184a1c54",
   "metadata": {},
   "source": [
    "__Visualization__"
   ]
  },
  {
   "cell_type": "code",
   "execution_count": 8,
   "id": "8b9fb558",
   "metadata": {},
   "outputs": [],
   "source": [
    "road_param = {\n",
    "    \"N_cells\": 100,\n",
    "    \"N_lane\": 3,\n",
    "}\n",
    "cars = {model.HumanDriveVehicle: 50}"
   ]
  },
  {
   "cell_type": "code",
   "execution_count": 9,
   "id": "bd8866a1",
   "metadata": {},
   "outputs": [],
   "source": [
    "model_vis_3 = model.Model(road_parametrs=road_param, vehicles=cars)"
   ]
  },
  {
   "cell_type": "code",
   "execution_count": 10,
   "id": "c2b970a5",
   "metadata": {},
   "outputs": [
    {
     "name": "stdout",
     "output_type": "stream",
     "text": [
      "CPU times: total: 6.45 s\n",
      "Wall time: 6.46 s\n"
     ]
    }
   ],
   "source": [
    "%%time\n",
    "model_vis_3.model_stabilization(1000)"
   ]
  },
  {
   "cell_type": "code",
   "execution_count": null,
   "id": "598f563e",
   "metadata": {},
   "outputs": [],
   "source": [
    "model_vis_3.model_research(200, is_diagramm=True)"
   ]
  },
  {
   "cell_type": "code",
   "execution_count": null,
   "id": "6263e996",
   "metadata": {},
   "outputs": [],
   "source": [
    "layers = list()"
   ]
  },
  {
   "cell_type": "code",
   "execution_count": null,
   "id": "52347695",
   "metadata": {},
   "outputs": [],
   "source": [
    "for layer in model_vis_3.x_t_diagramm.values():\n",
    "    layers.append(layer)\n",
    "layers = np.array(layers)"
   ]
  },
  {
   "cell_type": "code",
   "execution_count": null,
   "id": "5d601acb",
   "metadata": {},
   "outputs": [],
   "source": [
    "layers.shape"
   ]
  },
  {
   "cell_type": "code",
   "execution_count": null,
   "id": "7442a086",
   "metadata": {},
   "outputs": [],
   "source": [
    "%matplotlib inline \n",
    "%config InlineBackend.figure_format = 'svg' \n",
    "\n",
    "fig, ax = plt.subplots(figsize=(40,2))\n",
    "\n",
    "step = 0\n",
    "cells = layers[:,step,:].astype(float)\n",
    "left, right = 0, 40\n",
    "\n",
    "ax.pcolor(cells[:,left:right], cmap=\"RdYlGn\", vmin=0, vmax=5)\n",
    "\n",
    "ax.tick_params(left=False, labelleft=False, bottom=False, labelbottom=True)\n",
    "ax.set_xticks(np.arange(right-left+1))\n",
    "ax.set_yticks([0,1,2])\n",
    "ax.grid(color='black', linewidth=1)\n",
    "ax.set_title(f\"step: {step}\")\n",
    "plt.gca().set_aspect('equal', adjustable='box')\n",
    "\n",
    "plt.show()"
   ]
  },
  {
   "cell_type": "code",
   "execution_count": null,
   "id": "5dcf61c7",
   "metadata": {},
   "outputs": [],
   "source": [
    "left, right = 0, 50\n",
    "\n",
    "fig, ax = plt.subplots(figsize=(40,4))\n",
    "\n",
    "ax.tick_params(left=False, labelleft=False, bottom=False, labelbottom=True)\n",
    "\n",
    "def animate(i):\n",
    "    ax.clear()\n",
    "    cells = layers[:,i,:].astype(float)\n",
    "    line = ax.pcolor(cells[:,left:right], cmap=\"RdYlGn\", vmin=0, vmax=5)\n",
    "    ax.set_title(f\"step: {i}\")\n",
    "    ax.set_xticks(np.arange(right-left+1))\n",
    "    ax.set_yticks([0,1,2])\n",
    "    ax.grid(color='black', linewidth=1)\n",
    "    plt.gca().set_aspect('equal', adjustable='box')\n",
    "    return line\n",
    "\n",
    "#  Создаем объект анимации:\n",
    "sin_animation = animation.FuncAnimation(fig, \n",
    "                                      animate, \n",
    "                                      frames=np.arange(0, 100),\n",
    "                                      interval = 400,\n",
    "                                      repeat = False)\n",
    "\n",
    "#  Сохраняем анимацию в виде gif файла:\n",
    "sin_animation.save('data/animation_3_lane.gif',\n",
    "                 writer='ffmpeg',  \n",
    "                  dpi=300)"
   ]
  },
  {
   "cell_type": "markdown",
   "id": "2c5ef19b",
   "metadata": {},
   "source": [
    "## Test bus"
   ]
  },
  {
   "cell_type": "markdown",
   "id": "1afa19d2",
   "metadata": {},
   "source": [
    "__Test__"
   ]
  },
  {
   "cell_type": "code",
   "execution_count": 16,
   "id": "7bbc97c8",
   "metadata": {},
   "outputs": [],
   "source": [
    "road_param = {\n",
    "    \"N_cells\": 1000,\n",
    "    \"N_lane\": 1,\n",
    "}\n",
    "buses = {model.Bus: 50}\n",
    "station = tuple([10, 50, 100, 200, 350, 400, 500, 600, 900])"
   ]
  },
  {
   "cell_type": "code",
   "execution_count": 17,
   "id": "7693c310",
   "metadata": {},
   "outputs": [],
   "source": [
    "model.Bus.set_station(station)\n",
    "model_bus = model.Model(road_parametrs=road_param, vehicles=buses)\n"
   ]
  },
  {
   "cell_type": "code",
   "execution_count": 18,
   "id": "c8570a6b",
   "metadata": {},
   "outputs": [
    {
     "name": "stdout",
     "output_type": "stream",
     "text": [
      "CPU times: total: 4.86 s\n",
      "Wall time: 4.84 s\n"
     ]
    }
   ],
   "source": [
    "%%time\n",
    "model_bus.model_stabilization(1000)"
   ]
  },
  {
   "cell_type": "code",
   "execution_count": 19,
   "id": "86420b67",
   "metadata": {},
   "outputs": [],
   "source": [
    "model_bus.model_research(400)"
   ]
  },
  {
   "cell_type": "code",
   "execution_count": 20,
   "id": "a35b61f2",
   "metadata": {},
   "outputs": [
    {
     "data": {
      "text/plain": [
       "{'rho': [0.05], 'flow': [0.0354875], 'change_frequency': 0.0}"
      ]
     },
     "execution_count": 20,
     "metadata": {},
     "output_type": "execute_result"
    }
   ],
   "source": [
    "model_bus.result"
   ]
  },
  {
   "cell_type": "markdown",
   "id": "9cd5165b",
   "metadata": {},
   "source": [
    "__Vizualization__"
   ]
  },
  {
   "cell_type": "code",
   "execution_count": 21,
   "id": "dec0b9e4",
   "metadata": {},
   "outputs": [],
   "source": [
    "road_param = {\n",
    "    \"N_cells\": 100,\n",
    "    \"N_lane\": 3,\n",
    "}\n",
    "buses = {model.Bus: 8, model.HumanDriveVehicle: 40}\n",
    "station = tuple([10, 20, 50, 80, 90])"
   ]
  },
  {
   "cell_type": "code",
   "execution_count": 22,
   "id": "dccda946",
   "metadata": {},
   "outputs": [],
   "source": [
    "model.Bus._lenght =  2\n",
    "model.Bus.set_station(station)\n",
    "model_bus =  model.Model(road_parametrs=road_param, vehicles=buses)"
   ]
  },
  {
   "cell_type": "code",
   "execution_count": 23,
   "id": "5f4b2580",
   "metadata": {},
   "outputs": [
    {
     "name": "stdout",
     "output_type": "stream",
     "text": [
      "CPU times: total: 5.69 s\n",
      "Wall time: 5.68 s\n"
     ]
    }
   ],
   "source": [
    "%%time\n",
    "model_bus.model_stabilization(1000)"
   ]
  },
  {
   "cell_type": "code",
   "execution_count": 24,
   "id": "79d847d9",
   "metadata": {},
   "outputs": [],
   "source": [
    "model_bus.model_research(200, is_diagramm=True)"
   ]
  },
  {
   "cell_type": "code",
   "execution_count": 25,
   "id": "87a50020",
   "metadata": {},
   "outputs": [],
   "source": [
    "layers = list()"
   ]
  },
  {
   "cell_type": "code",
   "execution_count": 26,
   "id": "130b5dcd",
   "metadata": {},
   "outputs": [],
   "source": [
    "for layer in model_bus.x_t_diagramm.values():\n",
    "    layers.append(layer)\n",
    "layers = np.array(layers)"
   ]
  },
  {
   "cell_type": "code",
   "execution_count": 27,
   "id": "b3a00b34",
   "metadata": {},
   "outputs": [
    {
     "data": {
      "text/plain": [
       "13"
      ]
     },
     "execution_count": 27,
     "metadata": {},
     "output_type": "execute_result"
    }
   ],
   "source": [
    "len(model_bus.road_model[0])"
   ]
  },
  {
   "cell_type": "code",
   "execution_count": 28,
   "id": "df03892e",
   "metadata": {},
   "outputs": [
    {
     "data": {
      "text/plain": [
       "{'rho': [0.13, 0.2, 0.15],\n",
       " 'flow': [0.06045, 0.33795000000000003, 0.32525],\n",
       " 'change_frequency': 0.5533333333333333}"
      ]
     },
     "execution_count": 28,
     "metadata": {},
     "output_type": "execute_result"
    }
   ],
   "source": [
    "model_bus.result"
   ]
  },
  {
   "cell_type": "code",
   "execution_count": 29,
   "id": "a8de2008",
   "metadata": {},
   "outputs": [
    {
     "name": "stderr",
     "output_type": "stream",
     "text": [
      "MovieWriter ffmpeg unavailable; using Pillow instead.\n"
     ]
    },
    {
     "data": {
      "image/png": "[encoded data removed]",
      "text/plain": [
       "<Figure size 1440x144 with 1 Axes>"
      ]
     },
     "metadata": {
      "needs_background": "light"
     },
     "output_type": "display_data"
    }
   ],
   "source": [
    "left, right = 0, 100\n",
    "\n",
    "fig, ax = plt.subplots(figsize=(20,2))\n",
    "\n",
    "ax.tick_params(left=False, labelleft=False, bottom=False, labelbottom=True)\n",
    "\n",
    "def animate(i):\n",
    "    ax.clear()\n",
    "    cells = layers[:,i,:].astype(float)\n",
    "    line = ax.pcolor(cells[:,left:right], cmap=\"RdYlGn\", vmin=0, vmax=5)\n",
    "    ax.set_title(f\"step: {i}\")\n",
    "    ax.set_xticks(station)\n",
    "    ax.set_yticks([0,1,2])\n",
    "    ax.grid(color='black', linewidth=1)\n",
    "    plt.gca().set_aspect('equal', adjustable='box')\n",
    "    return line\n",
    "\n",
    "#  Создаем объект анимации:\n",
    "sin_animation = animation.FuncAnimation(fig, \n",
    "                                      animate, \n",
    "                                      frames=np.arange(0, 100),\n",
    "                                      interval = 400,\n",
    "                                      repeat = False)\n",
    "\n",
    "#  Сохраняем анимацию в виде gif файла:\n",
    "sin_animation.save('data/animation_bus_cars.gif',\n",
    "                 writer='ffmpeg',  \n",
    "                  dpi=300)"
   ]
  },
  {
   "cell_type": "markdown",
   "id": "e848b488",
   "metadata": {},
   "source": [
    "## Research cars and bus"
   ]
  }
 ],
 "metadata": {
  "hide_input": false,
  "kernelspec": {
   "display_name": "Python 3 (ipykernel)",
   "language": "python",
   "name": "python3"
  },
  "language_info": {
   "codemirror_mode": {
    "name": "ipython",
    "version": 3
   },
   "file_extension": ".py",
   "mimetype": "text/x-python",
   "name": "python",
   "nbconvert_exporter": "python",
   "pygments_lexer": "ipython3",
   "version": "3.9.12"
  },
  "varInspector": {
   "cols": {
    "lenName": 16,
    "lenType": 16,
    "lenVar": 40
   },
   "kernels_config": {
    "python": {
     "delete_cmd_postfix": "",
     "delete_cmd_prefix": "del ",
     "library": "var_list.py",
     "varRefreshCmd": "print(var_dic_list())"
    },
    "r": {
     "delete_cmd_postfix": ") ",
     "delete_cmd_prefix": "rm(",
     "library": "var_list.r",
     "varRefreshCmd": "cat(var_dic_list()) "
    }
   },
   "types_to_exclude": [
    "module",
    "function",
    "builtin_function_or_method",
    "instance",
    "_Feature"
   ],
   "window_display": false
  }
 },
 "nbformat": 4,
 "nbformat_minor": 5
}
